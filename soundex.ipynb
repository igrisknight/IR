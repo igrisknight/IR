{
 "cells": [
  {
   "cell_type": "code",
   "execution_count": 6,
   "metadata": {},
   "outputs": [],
   "source": [
    "def soundex_gen(token):\n",
    "    token = token.upper()\n",
    "    soundex = \"\"\n",
    "    soundex += token[0]\n",
    "\n",
    "    dictionary = {\n",
    "        \"BFPV\":\"1\",\n",
    "        \"CPJKQSXZ\":\"2\", \"DT\":\"3\",\n",
    "        \"L\":\"4\",\n",
    "        \"MN\":\"5\",\n",
    "        \"R\":\"6\",\n",
    "         \"AEIOUHWY\":\"0\",\n",
    "    }"
   ]
  },
  {
   "cell_type": "code",
   "execution_count": 7,
   "metadata": {},
   "outputs": [
    {
     "ename": "NameError",
     "evalue": "name 'token' is not defined",
     "output_type": "error",
     "traceback": [
      "\u001b[1;31m---------------------------------------------------------------------------\u001b[0m",
      "\u001b[1;31mNameError\u001b[0m                                 Traceback (most recent call last)",
      "Cell \u001b[1;32mIn[7], line 1\u001b[0m\n\u001b[1;32m----> 1\u001b[0m \u001b[38;5;28;01mfor\u001b[39;00m char \u001b[38;5;129;01min\u001b[39;00m \u001b[43mtoken\u001b[49m[\u001b[38;5;241m1\u001b[39m:]:\n\u001b[0;32m      2\u001b[0m     \u001b[38;5;28;01mfor\u001b[39;00m key \u001b[38;5;129;01min\u001b[39;00m dictionary\u001b[38;5;241m.\u001b[39mkeys():\n\u001b[0;32m      3\u001b[0m         \u001b[38;5;28;01mif\u001b[39;00m char \u001b[38;5;129;01min\u001b[39;00m key:\n",
      "\u001b[1;31mNameError\u001b[0m: name 'token' is not defined"
     ]
    }
   ],
   "source": [
    "for char in token[1:]:\n",
    "    for key in dictionary.keys():\n",
    "        if char in key:\n",
    "            code = dictionary[key]\n",
    "            if code != \" \":\n",
    "                if (\n",
    "                    code != soundex[-1] if soundex else \"\"):\n",
    "                        soundex += code\n",
    "soundex = soundex[:4].just(4, \"0\")\n",
    "return soundex\n",
    "\n",
    "print(soundex_gen(\"hello\"))"
   ]
  },
  {
   "cell_type": "code",
   "execution_count": null,
   "metadata": {},
   "outputs": [],
   "source": []
  }
 ],
 "metadata": {
  "kernelspec": {
   "display_name": "Python 3",
   "language": "python",
   "name": "python3"
  },
  "language_info": {
   "codemirror_mode": {
    "name": "ipython",
    "version": 3
   },
   "file_extension": ".py",
   "mimetype": "text/x-python",
   "name": "python",
   "nbconvert_exporter": "python",
   "pygments_lexer": "ipython3",
   "version": "3.13.2"
  }
 },
 "nbformat": 4,
 "nbformat_minor": 2
}
