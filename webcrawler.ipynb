{
 "cells": [
  {
   "cell_type": "code",
   "execution_count": 3,
   "metadata": {},
   "outputs": [],
   "source": [
    "import requests\n",
    "from bs4 import BeautifulSoup\n",
    "from urllib.parse import urljoin"
   ]
  },
  {
   "cell_type": "code",
   "execution_count": 12,
   "metadata": {},
   "outputs": [],
   "source": [
    "def crawl (url, depth =0, visited=set()):\n",
    "    if url in visited: return\n",
    "    print(f\"depth[{depth}] crawling: {url}\")\n",
    "    visited.add(url)\n",
    "    \n",
    "    try:\n",
    "        response = requests.get(url)\n",
    "        soup = BeautifulSoup(response.content, \"html.parser\")\n",
    "        for link in soup.find_all(\"a\", href=True):\n",
    "            new_url = urljoin(url, link[\"href\"])\n",
    "            if not new_url.startswith(url): return\n",
    "            crawl(new_url, depth+1, visited)\n",
    "    except Exception as e:\n",
    "        print(\"Error\", e)"
   ]
  },
  {
   "cell_type": "code",
   "execution_count": 13,
   "metadata": {},
   "outputs": [
    {
     "name": "stdout",
     "output_type": "stream",
     "text": [
      "depth[0] crawling: https://mithibai.ac.in\n",
      "depth[1] crawling: https://mithibai.ac.in/\n",
      "depth[2] crawling: https://mithibai.ac.in/about-us/about-mithibai/\n",
      "depth[2] crawling: https://mithibai.ac.in/about-us/administration/\n",
      "depth[2] crawling: https://mithibai.ac.in/about-us/infrastructure/\n",
      "depth[2] crawling: https://mithibai.ac.in/statutory-body/academic-council/\n",
      "depth[2] crawling: https://mithibai.ac.in/statutory-body/board-of-studies/\n",
      "depth[2] crawling: https://mithibai.ac.in/statutory-body/governing-body/\n",
      "depth[2] crawling: https://mithibai.ac.in/statutory-body/college-development-committee/\n",
      "depth[2] crawling: https://mithibai.ac.in/statutory-body/finance-committee/\n",
      "depth[2] crawling: https://mithibai.ac.in/about-us/nirf/\n",
      "depth[2] crawling: https://mithibai.ac.in/admission-2/admission-notices/\n",
      "depth[2] crawling: https://mithibai.ac.in/departments/junior-college/\n",
      "depth[2] crawling: https://mithibai.ac.in/degree-college/\n",
      "depth[2] crawling: https://mithibai.ac.in/arts-department/\n",
      "depth[2] crawling: https://mithibai.ac.in/commerce-department/\n",
      "depth[2] crawling: https://mithibai.ac.in/science-department/\n",
      "depth[2] crawling: https://mithibai.ac.in/program\n",
      "depth[2] crawling: https://mithibai.ac.in/program/undergraduate\n",
      "depth[2] crawling: https://mithibai.ac.in/arts-undergraduate-programs/\n",
      "depth[2] crawling: https://mithibai.ac.in/commerce-undergraduate-programs/\n",
      "depth[2] crawling: https://mithibai.ac.in/science-undergraduate-programs/\n",
      "depth[2] crawling: https://mithibai.ac.in/program/postgraduate-programs\n",
      "depth[2] crawling: https://mithibai.ac.in/arts-postgraduate-programs/\n",
      "depth[2] crawling: https://mithibai.ac.in/commerce-postgraduate-programs/\n",
      "depth[2] crawling: https://mithibai.ac.in/science-postgraduate-programs/\n",
      "depth[2] crawling: https://mithibai.ac.in/academics/programs/ph-d/\n",
      "depth[2] crawling: https://mithibai.ac.in/arts-ph-d-programs/\n",
      "depth[2] crawling: https://mithibai.ac.in/commerce-ph-d-programs/\n",
      "depth[2] crawling: https://mithibai.ac.in/science-ph-d-programs/\n",
      "depth[2] crawling: https://mithibai.ac.in/academics/programs/certification-course/\n",
      "depth[2] crawling: https://mithibai.ac.in/academics/library/\n",
      "depth[2] crawling: https://mithibai.ac.in/academics/examination-guidelines/\n",
      "depth[2] crawling: https://mithibai.ac.in/academics/examination-guidelines/junior-college-examination-guidelines/\n",
      "depth[2] crawling: https://mithibai.ac.in/academics/examination-guidelines/degree-college-examination-guidelines/\n",
      "depth[2] crawling: https://mithibai.ac.in/academics/attendance-norms/\n",
      "depth[2] crawling: https://mithibai.ac.in/notices\n",
      "depth[2] crawling: https://mithibai.ac.in/training-and-placement/\n",
      "depth[2] crawling: https://mithibai.ac.in/aavishkar/\n",
      "depth[2] crawling: https://mithibai.ac.in/luminescence/\n",
      "depth[2] crawling: https://mithibai.ac.in/international-yoga-day/\n",
      "depth[2] crawling: https://mithibai.ac.in/sports/\n",
      "depth[2] crawling: https://mithibai.ac.in/alumni-association/\n",
      "depth[2] crawling: https://mithibai.ac.in/antiragging-committee/\n",
      "depth[2] crawling: https://mithibai.ac.in/internal-complaint-committee/\n",
      "depth[2] crawling: https://mithibai.ac.in/student-welfare-and-grievance-redressal-cell/\n",
      "depth[2] crawling: https://mithibai.ac.in/scholarships-freeship/\n",
      "depth[2] crawling: https://mithibai.ac.in/on-campus-doctors/\n",
      "depth[2] crawling: https://mithibai.ac.in/counselling/\n",
      "depth[2] crawling: https://mithibai.ac.in/useful-forms-for-students/\n"
     ]
    }
   ],
   "source": [
    "if __name__ == \"__main__\":\n",
    "    root = \"https://mithibai.ac.in\"\n",
    "    crawl(root)"
   ]
  },
  {
   "cell_type": "code",
   "execution_count": null,
   "metadata": {},
   "outputs": [],
   "source": []
  }
 ],
 "metadata": {
  "kernelspec": {
   "display_name": "Python 3",
   "language": "python",
   "name": "python3"
  },
  "language_info": {
   "codemirror_mode": {
    "name": "ipython",
    "version": 3
   },
   "file_extension": ".py",
   "mimetype": "text/x-python",
   "name": "python",
   "nbconvert_exporter": "python",
   "pygments_lexer": "ipython3",
   "version": "3.13.2"
  }
 },
 "nbformat": 4,
 "nbformat_minor": 2
}
