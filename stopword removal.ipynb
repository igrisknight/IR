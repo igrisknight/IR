{
 "cells": [
  {
   "cell_type": "code",
   "execution_count": 15,
   "metadata": {},
   "outputs": [
    {
     "name": "stderr",
     "output_type": "stream",
     "text": [
      "[nltk_data] Downloading package punkt_tab to\n",
      "[nltk_data]     C:\\Users\\dell\\AppData\\Roaming\\nltk_data...\n",
      "[nltk_data]   Unzipping tokenizers\\punkt_tab.zip.\n"
     ]
    }
   ],
   "source": [
    "import nltk\n",
    "from nltk.corpus import stopwords\n",
    "from nltk.tokenize import word_tokenize\n",
    "\n",
    "# Download necessary resources (run this only once)\n",
    "try:\n",
    "    nltk.data.find(\"tokenizers/punkt_tab/english.pickle\")\n",
    "except LookupError:\n",
    "    nltk.download(\"punkt_tab\")\n",
    "try:\n",
    "    stopwords.words(\"english\")\n",
    "except LookupError:\n",
    "    nltk.download(\"stopwords\")\n",
    "try:\n",
    "    word_tokenize(\"example\")\n",
    "except LookupError:\n",
    "    nltk.download(\"punkt\")\n"
   ]
  },
  {
   "cell_type": "code",
   "execution_count": 16,
   "metadata": {},
   "outputs": [],
   "source": [
    "def remove_stopwords(text):\n",
    "    \"\"\"\n",
    "    Removes stop words from a given text.\n",
    "\n",
    "    Args:\n",
    "        text (str): The input text.\n",
    "\n",
    "    Returns:\n",
    "        str: The text with stop words removed.\n",
    "    \"\"\"\n",
    "    stop_words = set(stopwords.words(\"english\"))  # Use a set for faster lookup\n",
    "    word_tokens = word_tokenize(text)\n",
    "    filtered_sentence = [\n",
    "        w for w in word_tokens if w.lower() not in stop_words\n",
    "    ]  # Lowercase for case-insensitive matching\n",
    "    return \" \".join(filtered_sentence)\n"
   ]
  },
  {
   "cell_type": "code",
   "execution_count": 17,
   "metadata": {},
   "outputs": [
    {
     "name": "stdout",
     "output_type": "stream",
     "text": [
      "Original Text:\n",
      " This is a sample sentence, showing off the stop word removal.\n",
      "It includes common words like this is a and of that\n",
      "we want to remove.\n",
      "\n",
      "Filtered Text:\n",
      " sample sentence , showing stop word removal . includes common words like want remove .\n"
     ]
    }
   ],
   "source": [
    "# Example usage\n",
    "text = \"\"\"This is a sample sentence, showing off the stop word removal.\n",
    "It includes common words like this is a and of that\n",
    "we want to remove.\"\"\"\n",
    "\n",
    "filtered_text = remove_stopwords(text)\n",
    "\n",
    "print(\"Original Text:\\n\", text)\n",
    "print(\"\\nFiltered Text:\\n\", filtered_text)\n"
   ]
  },
  {
   "cell_type": "code",
   "execution_count": null,
   "metadata": {},
   "outputs": [],
   "source": [
    "``"
   ]
  }
 ],
 "metadata": {
  "kernelspec": {
   "display_name": "Python 3",
   "language": "python",
   "name": "python3"
  },
  "language_info": {
   "codemirror_mode": {
    "name": "ipython",
    "version": 3
   },
   "file_extension": ".py",
   "mimetype": "text/x-python",
   "name": "python",
   "nbconvert_exporter": "python",
   "pygments_lexer": "ipython3",
   "version": "3.13.2"
  }
 },
 "nbformat": 4,
 "nbformat_minor": 2
}
