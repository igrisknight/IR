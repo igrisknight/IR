{
 "cells": [
  {
   "cell_type": "code",
   "execution_count": 1,
   "id": "7758edc0-277e-4da2-a10d-5302a67335a5",
   "metadata": {},
   "outputs": [
    {
     "name": "stdin",
     "output_type": "stream",
     "text": [
      "Enter n:  3\n",
      "String:  hello world\n"
     ]
    }
   ],
   "source": [
    "n = int(input('Enter n: '))\n",
    "string = input('String: ')\n",
    "st = string.split()  # Splitting the string into words\n",
    "ans = []"
   ]
  },
  {
   "cell_type": "code",
   "execution_count": 2,
   "id": "1e0d6e70-8a01-40be-a60d-3ca5636f3310",
   "metadata": {},
   "outputs": [
    {
     "name": "stdout",
     "output_type": "stream",
     "text": [
      "['$he', 'hel', 'ell', 'llo', 'lo$', '$wo', 'wor', 'orl', 'rld', 'ld$']\n"
     ]
    }
   ],
   "source": [
    "for word in st:\n",
    "    if len(word) < n:\n",
    "        continue  # Skip words that are smaller than n\n",
    "\n",
    "    ans.append(\"$\" + word[:n-1])  # Add the prefix n-gram with '$'\n",
    "    \n",
    "    for j in range(len(word) - n + 1):  # Iterate over valid n-grams\n",
    "        ans.append(word[j:j+n])\n",
    "    \n",
    "    ans.append(word[-n+1:] + \"$\")  # Add the suffix n-gram with '$'\n",
    "\n",
    "print(ans)"
   ]
  },
  {
   "cell_type": "code",
   "execution_count": null,
   "id": "6be9fcde-78fd-4f3f-999f-54dc883f9dcd",
   "metadata": {},
   "outputs": [],
   "source": [
    "s"
   ]
  }
 ],
 "metadata": {
  "kernelspec": {
   "display_name": "Python 3 (ipykernel)",
   "language": "python",
   "name": "python3"
  },
  "language_info": {
   "codemirror_mode": {
    "name": "ipython",
    "version": 3
   },
   "file_extension": ".py",
   "mimetype": "text/x-python",
   "name": "python",
   "nbconvert_exporter": "python",
   "pygments_lexer": "ipython3",
   "version": "3.12.4"
  }
 },
 "nbformat": 4,
 "nbformat_minor": 5
}
