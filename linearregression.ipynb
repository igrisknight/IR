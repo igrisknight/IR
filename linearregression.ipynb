{
 "cells": [
  {
   "cell_type": "code",
   "execution_count": 3,
   "metadata": {},
   "outputs": [],
   "source": [
    "import numpy as np"
   ]
  },
  {
   "cell_type": "code",
   "execution_count": 4,
   "metadata": {},
   "outputs": [],
   "source": [
    "# 1. Sample Data (Replace with your own data)\n",
    "X = np.array([1, 2, 3, 4, 5])  # Independent variable (input)\n",
    "y = np.array([2, 4, 5, 4, 5])  # Dependent variable (output)\n"
   ]
  },
  {
   "cell_type": "code",
   "execution_count": 5,
   "metadata": {},
   "outputs": [
    {
     "name": "stdout",
     "output_type": "stream",
     "text": [
      "Mean of X: 3.0\n",
      "Mean of y: 4.0\n"
     ]
    }
   ],
   "source": [
    "# 2. Calculate Mean (Average) of X and y\n",
    "X_mean = np.mean(X)\n",
    "y_mean = np.mean(y)\n",
    "\n",
    "# Print the means\n",
    "print(\"Mean of X:\", X_mean)\n",
    "print(\"Mean of y:\", y_mean)\n"
   ]
  },
  {
   "cell_type": "code",
   "execution_count": 7,
   "metadata": {},
   "outputs": [
    {
     "name": "stdout",
     "output_type": "stream",
     "text": [
      "a1 (Slope): 0.6\n"
     ]
    }
   ],
   "source": [
    "# 3. Calculate a1 (Slope)\n",
    "numerator = np.sum((X - X_mean) * (y - y_mean))\n",
    "denominator = np.sum((X - X_mean) ** 2)\n",
    "a1 = numerator / denominator\n",
    "\n",
    "# Print a1 (Slope)\n",
    "print(\"a1 (Slope):\", a1)\n"
   ]
  },
  {
   "cell_type": "code",
   "execution_count": 8,
   "metadata": {},
   "outputs": [
    {
     "name": "stdout",
     "output_type": "stream",
     "text": [
      "a0 (Intercept): 2.2\n"
     ]
    }
   ],
   "source": [
    "# 4. Calculate a0 (Intercept)\n",
    "a0 = y_mean - a1 * X_mean\n",
    "\n",
    "# Print a0 (Intercept)\n",
    "print(\"a0 (Intercept):\", a0)\n"
   ]
  },
  {
   "cell_type": "code",
   "execution_count": 9,
   "metadata": {},
   "outputs": [
    {
     "name": "stdout",
     "output_type": "stream",
     "text": [
      "Predicted y for x = 6 is: 5.8\n",
      "Sum of Squared Errors (SSE): 2.3999999999999995\n"
     ]
    }
   ],
   "source": [
    "# 5. Prediction Function (to predict new values)\n",
    "def predict(x, a0, a1):\n",
    "    \"\"\"\n",
    "    Predicts the value of y for a given x using the calculated a0 and a1.\n",
    "    \"\"\"\n",
    "    return a0 + a1 * x\n",
    "\n",
    "\n",
    "# Example Prediction\n",
    "new_x = 6  # Input value for which we want to predict y\n",
    "predicted_y = predict(new_x, a0, a1)\n",
    "\n",
    "# Print the prediction\n",
    "print(\"Predicted y for x =\", new_x, \"is:\", predicted_y)\n",
    "\n",
    "# 6. Evaluate the Model (Simple Evaluation - Sum of Squared Errors)\n",
    "y_predicted = a0 + a1 * X  # Calculate predicted y values for all X\n",
    "\n",
    "# Calculate the errors\n",
    "errors = y - y_predicted  # errors for each X and y\n",
    "\n",
    "# Squared Errors\n",
    "squared_errors = errors ** 2  # error squared for each X and y\n",
    "\n",
    "# Sum of squared errors\n",
    "sum_squared_errors = np.sum(squared_errors)\n",
    "\n",
    "# Print SSE\n",
    "print(\"Sum of Squared Errors (SSE):\", sum_squared_errors)\n"
   ]
  },
  {
   "cell_type": "code",
   "execution_count": null,
   "metadata": {},
   "outputs": [],
   "source": []
  }
 ],
 "metadata": {
  "kernelspec": {
   "display_name": "Python 3",
   "language": "python",
   "name": "python3"
  },
  "language_info": {
   "codemirror_mode": {
    "name": "ipython",
    "version": 3
   },
   "file_extension": ".py",
   "mimetype": "text/x-python",
   "name": "python",
   "nbconvert_exporter": "python",
   "pygments_lexer": "ipython3",
   "version": "3.13.2"
  }
 },
 "nbformat": 4,
 "nbformat_minor": 2
}
