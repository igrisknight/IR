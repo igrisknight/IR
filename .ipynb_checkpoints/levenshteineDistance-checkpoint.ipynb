{
 "cells": [
  {
   "cell_type": "code",
   "execution_count": 1,
   "id": "60ac7282-79d0-4c9e-bb80-43d1feb07e4b",
   "metadata": {},
   "outputs": [],
   "source": [
    "def levenshtein_distance(s1, s2):\n",
    "    # Create a matrix to store distances\n",
    "    m, n = len(s1), len(s2)\n",
    "    dp = [[0] * (n + 1) for _ in range(m + 1)]\n",
    "\n",
    "    # Initialize the first row and column\n",
    "    for i in range(m + 1):\n",
    "        dp[i][0] = i  # Deletion cost\n",
    "    for j in range(n + 1):\n",
    "        dp[0][j] = j  # Insertion cost\n",
    "\n",
    "    # Fill the matrix\n",
    "    for i in range(1, m + 1):\n",
    "        for j in range(1, n + 1):\n",
    "            if s1[i - 1] == s2[j - 1]:\n",
    "                dp[i][j] = dp[i - 1][j - 1]  # No operation needed\n",
    "            else:\n",
    "                dp[i][j] = min(\n",
    "                    dp[i - 1][j] + 1,    # Deletion\n",
    "                    dp[i][j - 1] + 1,    # Insertion\n",
    "                    dp[i - 1][j - 1] + 1  # Substitution\n",
    "                )\n",
    "\n",
    "    # Print the matrix with headers for clarity\n",
    "    print(\"Levenshtein Distance Matrix:\")\n",
    "    \n",
    "    # Print header row (s2 characters)\n",
    "    header = \"    \" + \"  \".join([\" \"] + list(s2))\n",
    "    print(header)\n",
    "    \n",
    "    # Print each row with corresponding character from s1 (or a space for the 0-th row)\n",
    "    for i in range(m + 1):\n",
    "        row_label = \" \" if i == 0 else s1[i - 1]\n",
    "        row_values = \"  \".join(f\"{dp[i][j]:2}\" for j in range(n + 1))\n",
    "        print(f\"{row_label}  {row_values}\")\n",
    "    \n",
    "    return dp[m][n]"
   ]
  },
  {
   "cell_type": "code",
   "execution_count": 2,
   "id": "5e6806f0-985f-40d3-9fdc-3823443787f9",
   "metadata": {},
   "outputs": [
    {
     "name": "stdout",
     "output_type": "stream",
     "text": [
      "Levenshtein Distance Matrix:\n",
      "       s  i  t  t  i  n  g\n",
      "    0   1   2   3   4   5   6   7\n",
      "k   1   1   2   3   4   5   6   7\n",
      "i   2   2   1   2   3   4   5   6\n",
      "t   3   3   2   1   2   3   4   5\n",
      "t   4   4   3   2   1   2   3   4\n",
      "e   5   5   4   3   2   2   3   4\n",
      "n   6   6   5   4   3   3   2   3\n",
      "\n",
      "The Levenshtein distance between 'kitten' and 'sitting' is: 3\n"
     ]
    }
   ],
   "source": [
    "# Example usage\n",
    "if __name__ == \"__main__\":\n",
    "    s1 = \"kitten\"\n",
    "    s2 = \"sitting\"\n",
    "    distance = levenshtein_distance(s1, s2)\n",
    "    print(f\"\\nThe Levenshtein distance between '{s1}' and '{s2}' is: {distance}\")"
   ]
  },
  {
   "cell_type": "code",
   "execution_count": null,
   "id": "3aaa9057-429b-460f-aebc-ccbb921c49da",
   "metadata": {},
   "outputs": [],
   "source": []
  }
 ],
 "metadata": {
  "kernelspec": {
   "display_name": "Python 3 (ipykernel)",
   "language": "python",
   "name": "python3"
  },
  "language_info": {
   "codemirror_mode": {
    "name": "ipython",
    "version": 3
   },
   "file_extension": ".py",
   "mimetype": "text/x-python",
   "name": "python",
   "nbconvert_exporter": "python",
   "pygments_lexer": "ipython3",
   "version": "3.12.4"
  }
 },
 "nbformat": 4,
 "nbformat_minor": 5
}
