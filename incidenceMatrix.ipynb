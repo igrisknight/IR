{
 "cells": [
  {
   "cell_type": "code",
   "execution_count": 1,
   "id": "5128c5be-33d3-4c38-9480-ad45bdb1d924",
   "metadata": {},
   "outputs": [
    {
     "name": "stdout",
     "output_type": "stream",
     "text": [
      "Statements: ['The cat sat on the mat.', 'Dogs are great companions.', 'Cats and dogs can be friends.', 'The quick brown fox jumps over the lazy dog.']\n",
      "Keywords: ['cat', 'dog', 'friends', 'quick', 'lazy']\n"
     ]
    }
   ],
   "source": [
    "# Cell 1: Define Statements and Keywords\n",
    "statements = [\n",
    "    \"The cat sat on the mat.\",\n",
    "    \"Dogs are great companions.\",\n",
    "    \"Cats and dogs can be friends.\",\n",
    "    \"The quick brown fox jumps over the lazy dog.\",\n",
    "]\n",
    "keywords = [\"cat\", \"dog\", \"friends\", \"quick\", \"lazy\"]\n",
    "\n",
    "print(\"Statements:\", statements)\n",
    "print(\"Keywords:\", keywords)\n"
   ]
  },
  {
   "cell_type": "code",
   "execution_count": 2,
   "id": "3af800d6-a324-401e-9393-b9cb19d91cc0",
   "metadata": {},
   "outputs": [
    {
     "name": "stdout",
     "output_type": "stream",
     "text": [
      "Incidence Matrix (raw): [[1, 0, 0, 0, 0], [0, 0, 0, 0, 0], [0, 1, 1, 0, 0], [0, 1, 0, 1, 1]]\n"
     ]
    }
   ],
   "source": [
    "# Cell 2: Create Incidence Matrix\n",
    "def create_incidence_matrix(statements, keywords):\n",
    "    matrix = [\n",
    "        [0 for _ in range(len(keywords))] for _ in range(len(statements))\n",
    "    ]\n",
    "\n",
    "    for i, statement in enumerate(statements):\n",
    "        for j, keyword in enumerate(keywords):\n",
    "            if keyword in statement:\n",
    "                matrix[i][j] = 1\n",
    "    return matrix\n",
    "\n",
    "\n",
    "incidence_matrix = create_incidence_matrix(statements, keywords)\n",
    "\n",
    "print(\"Incidence Matrix (raw):\", incidence_matrix)\n"
   ]
  },
  {
   "cell_type": "code",
   "execution_count": 3,
   "id": "1ee52a85-0ba9-4a97-97a0-ef2168c8ffbe",
   "metadata": {},
   "outputs": [
    {
     "name": "stdout",
     "output_type": "stream",
     "text": [
      "Incidence Matrix:\n",
      "   cat dog friends quick lazy\n",
      "S1: 1 0 0 0 0\n",
      "S2: 0 0 0 0 0\n",
      "S3: 0 1 1 0 0\n",
      "S4: 0 1 0 1 1\n"
     ]
    }
   ],
   "source": [
    "# Cell 3: Display Incidence Matrix\n",
    "def display_matrix(matrix, keywords):\n",
    "    print(\"Incidence Matrix:\")\n",
    "    print(\"   \" + \" \".join(keywords))\n",
    "    for i, row in enumerate(matrix):\n",
    "        print(f\"S{i+1}: \" + \" \".join(str(cell) for cell in row))\n",
    "\n",
    "\n",
    "display_matrix(incidence_matrix, keywords)\n"
   ]
  },
  {
   "cell_type": "code",
   "execution_count": 4,
   "id": "94935e1b-54be-4bb2-ad2b-2f754003e31e",
   "metadata": {},
   "outputs": [],
   "source": [
    "# Cell 4: Evaluate Query Function\n",
    "def evaluate_query(query, statements, keywords, matrix):\n",
    "    or_clauses = query.split(\"OR\")\n",
    "    found_statements = set()\n",
    "\n",
    "    for or_clause in or_clauses:\n",
    "        and_keywords = or_clause.split(\"AND\")\n",
    "        and_keywords = [keyword.strip() for keyword in and_keywords]\n",
    "\n",
    "        for i in range(len(statements)):\n",
    "            if all(\n",
    "                matrix[i][keywords.index(keyword)] == 1\n",
    "                for keyword in and_keywords\n",
    "                if keyword in keywords\n",
    "            ):\n",
    "                found_statements.add(statements[i])\n",
    "\n",
    "    return list(found_statements)\n"
   ]
  },
  {
   "cell_type": "code",
   "execution_count": 5,
   "id": "5a3c56ad-e72a-4972-913e-731f5f2ee8e4",
   "metadata": {},
   "outputs": [
    {
     "name": "stdout",
     "output_type": "stream",
     "text": [
      "Statements matching the query 'cat AND friends OR dog': ['Cats and dogs can be friends.', 'The quick brown fox jumps over the lazy dog.']\n"
     ]
    }
   ],
   "source": [
    "# Cell 5: Example Query and Evaluation\n",
    "query_statement = \"cat AND friends OR dog\"\n",
    "result = evaluate_query(\n",
    "    query_statement, statements, keywords, incidence_matrix\n",
    ")\n",
    "print(f\"Statements matching the query '{query_statement}': {result}\")\n"
   ]
  },
  {
   "cell_type": "code",
   "execution_count": null,
   "id": "08c16d68-8c10-4988-a7b0-0a12d434b6a8",
   "metadata": {},
   "outputs": [],
   "source": []
  }
 ],
 "metadata": {
  "kernelspec": {
   "display_name": "Python 3 (ipykernel)",
   "language": "python",
   "name": "python3"
  },
  "language_info": {
   "codemirror_mode": {
    "name": "ipython",
    "version": 3
   },
   "file_extension": ".py",
   "mimetype": "text/x-python",
   "name": "python",
   "nbconvert_exporter": "python",
   "pygments_lexer": "ipython3",
   "version": "3.12.4"
  }
 },
 "nbformat": 4,
 "nbformat_minor": 5
}
