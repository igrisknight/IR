{
 "cells": [
  {
   "cell_type": "code",
   "execution_count": 1,
   "metadata": {},
   "outputs": [],
   "source": [
    "doc1 = \"i am the one\"\n",
    "doc2 = \"under the sea\"\n",
    "tok1 = doc1.lower().split()\n",
    "tok2 = doc2.lower().split()\n",
    "terms = list(set(tok1 + tok2))\n",
    "inverted_index = {}"
   ]
  },
  {
   "cell_type": "code",
   "execution_count": 2,
   "metadata": {},
   "outputs": [],
   "source": [
    "for term in terms:\n",
    "    documents = []\n",
    "    if term in tok1:\n",
    "        documents.append(\"Document 1\")\n",
    "    if term in tok2:\n",
    "        documents.append(\"Document 2\")\n",
    "    inverted_index[term] = documents"
   ]
  },
  {
   "cell_type": "code",
   "execution_count": 3,
   "metadata": {},
   "outputs": [
    {
     "name": "stdout",
     "output_type": "stream",
     "text": [
      "the -> Document 1 Document 2\n",
      "i -> Document 1\n",
      "under -> Document 2\n",
      "one -> Document 1\n",
      "sea -> Document 2\n",
      "am -> Document 1\n"
     ]
    }
   ],
   "source": [
    "for term, documents in inverted_index.items():\n",
    "    print(term, \"->\", \" \".join(documents))"
   ]
  },
  {
   "cell_type": "code",
   "execution_count": null,
   "metadata": {},
   "outputs": [],
   "source": []
  }
 ],
 "metadata": {
  "kernelspec": {
   "display_name": "Python 3",
   "language": "python",
   "name": "python3"
  },
  "language_info": {
   "codemirror_mode": {
    "name": "ipython",
    "version": 3
   },
   "file_extension": ".py",
   "mimetype": "text/x-python",
   "name": "python",
   "nbconvert_exporter": "python",
   "pygments_lexer": "ipython3",
   "version": "3.13.2"
  }
 },
 "nbformat": 4,
 "nbformat_minor": 2
}
