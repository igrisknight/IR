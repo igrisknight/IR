{
 "cells": [
  {
   "cell_type": "code",
   "execution_count": 2,
   "id": "4d43bc9b-fe0f-4e68-8bbe-04cb6ea78b4e",
   "metadata": {},
   "outputs": [
    {
     "name": "stdout",
     "output_type": "stream",
     "text": [
      "Original: running -> Stemmed: run\n",
      "Original: runner -> Stemmed: runner\n",
      "Original: easily -> Stemmed: easili\n",
      "Original: fairly -> Stemmed: fairli\n",
      "Original: cats -> Stemmed: cat\n",
      "Original: happiness -> Stemmed: happi\n",
      "Original: studies -> Stemmed: studi\n",
      "Original: stemmer -> Stemmed: stemmer\n"
     ]
    },
    {
     "name": "stderr",
     "output_type": "stream",
     "text": [
      "[nltk_data] Error loading punnkt: Package 'punnkt' not found in index\n"
     ]
    }
   ],
   "source": [
    "import nltk\n",
    "from nltk.stem import PorterStemmer\n",
    "nltk.download('punnkt')\n",
    "\n",
    "# Instantiate the PorterStemmer\n",
    "stemmer = PorterStemmer()\n",
    "\n",
    "# List of words to stem\n",
    "words = [\"running\", \"runner\", \"easily\", \"fairly\", \"cats\", \"happiness\", \"studies\", \"stemmer\"]\n",
    "\n",
    "# Stem each word and print the result\n",
    "for word in words:\n",
    "    print(f\"Original: {word} -> Stemmed: {stemmer.stem(word)}\")"
   ]
  },
  {
   "cell_type": "code",
   "execution_count": null,
   "id": "14956713-49eb-4aee-b393-482b99d6f240",
   "metadata": {},
   "outputs": [],
   "source": []
  }
 ],
 "metadata": {
  "kernelspec": {
   "display_name": "Python 3 (ipykernel)",
   "language": "python",
   "name": "python3"
  },
  "language_info": {
   "codemirror_mode": {
    "name": "ipython",
    "version": 3
   },
   "file_extension": ".py",
   "mimetype": "text/x-python",
   "name": "python",
   "nbconvert_exporter": "python",
   "pygments_lexer": "ipython3",
   "version": "3.12.4"
  }
 },
 "nbformat": 4,
 "nbformat_minor": 5
}
