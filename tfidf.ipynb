{
 "cells": [
  {
   "cell_type": "code",
   "execution_count": 30,
   "metadata": {},
   "outputs": [],
   "source": [
    "import nltk\n",
    "from nltk.corpus import stopwords\n",
    "from nltk.tokenize import word_tokenize\n",
    "from collections import defaultdict\n",
    "import math\n",
    "import os"
   ]
  },
  {
   "cell_type": "code",
   "execution_count": 31,
   "metadata": {},
   "outputs": [],
   "source": [
    "def display(vocab, tfidfs):\n",
    "    for term in vocab:\n",
    "        temp = [tfidf.get(term, 0) for tfidf in tfidfs]\n",
    "        print(f\"{term}: {temp}\")\n"
   ]
  },
  {
   "cell_type": "code",
   "execution_count": null,
   "metadata": {},
   "outputs": [],
   "source": [
    "def stopword_removal(filename, folder):\n",
    "    stopword_set = set(stopwords.words(\"english\"))\n",
    "    file_path = os.path.join(folder, filename)\n",
    "\n",
    "    if not os.path.exists(file_path):\n",
    "        print(f\"Error: {filename} not found!\")\n",
    "        return []\n",
    "\n",
    "    with open(file_path, \"r\", encoding=\"utf-8\") as f:\n",
    "        text = f.read()\n",
    "\n",
    "    tokens = word_tokenize(text)\n",
    "\n",
    "    words = [word.lower() for word in tokens if word.isalnum()]\n",
    "\n",
    "    filtered_words = [word for word in words if word not in stopword_set]\n",
    "\n",
    "    return filtered_words\n"
   ]
  },
  {
   "cell_type": "code",
   "execution_count": 38,
   "metadata": {},
   "outputs": [],
   "source": [
    "def get_tf(tokens):\n",
    "    tf = defaultdict(int)\n",
    "    for token in tokens:\n",
    "        tf[token] += 1\n",
    "    return tf\n"
   ]
  },
  {
   "cell_type": "code",
   "execution_count": null,
   "metadata": {},
   "outputs": [],
   "source": [
    "def get_idf(doc_tokens, n):\n",
    "    df = defaultdict(int)\n",
    "    for document in doc_tokens:\n",
    "        for token in set(document): \n",
    "            df[token] += 1\n",
    "\n",
    "    idf = {}  \n",
    "    for token, count in df.items(): \n",
    "        idf[token] = round(math.log10(n / count), 2)\n",
    "    return idf\n"
   ]
  },
  {
   "cell_type": "code",
   "execution_count": 40,
   "metadata": {},
   "outputs": [],
   "source": [
    "def get_tf_idf(tf, idf):\n",
    "    tfidf = {}\n",
    "    for term, term_freq in tf.items():\n",
    "        tfidf[term] = term_freq * idf.get(term, 0)\n",
    "    return tfidf\n"
   ]
  },
  {
   "cell_type": "code",
   "execution_count": null,
   "metadata": {},
   "outputs": [
    {
     "name": "stdout",
     "output_type": "stream",
     "text": [
      "Checkpoint 1: Tokenization Done\n",
      "Checkpoint 2: TF-IDF Computed\n",
      "part: [0, 0.6, 0]\n",
      "data: [0.12, 0.12, 0.12]\n",
      "scienc: [0, 0, 0.6]\n",
      "used: [0, 0, 0.6]\n",
      "science: [0.3, 0.3, 0]\n",
      "learning: [0, 0.6, 0]\n",
      "ai: [0, 0.3, 0.3]\n",
      "amazing: [0.6, 0, 0]\n",
      "machine: [0, 0.6, 0]\n",
      "python: [0, 0, 0.6]\n",
      "file1.txt: 1.02\n",
      "file2.txt: 2.52\n",
      "file3.txt: 2.22\n"
     ]
    }
   ],
   "source": [
    "def main():\n",
    "    corpus_size = 4\n",
    "    num_docs = 3\n",
    "    folder = \"corpus2\"\n",
    "\n",
    "    docs = [f\"file{i}.txt\" for i in range(1, num_docs + 1)]\n",
    "\n",
    "    # Check if files exist\n",
    "    for doc in docs:\n",
    "        if not os.path.exists(os.path.join(folder, doc)):\n",
    "            print(f\"Error: {doc} not found!\")\n",
    "            return  # Exit early if files are missing\n",
    "\n",
    "    all_tokens = [stopword_removal(doc, folder) for doc in docs]\n",
    "    print(\"Checkpoint 1: Tokenization Done\")\n",
    "\n",
    "    tfs = [get_tf(tokens) for tokens in all_tokens]\n",
    "    idfs = get_idf(all_tokens, corpus_size)\n",
    "    tfidfs = [get_tf_idf(tf, idfs) for tf in tfs]\n",
    "\n",
    "    print(\"Checkpoint 2: TF-IDF Computed\")\n",
    "\n",
    "    vocabulary = set()\n",
    "    for tfidf in tfidfs:\n",
    "        vocabulary.update(tfidf.keys())\n",
    "    vocabulary = list(vocabulary)\n",
    "\n",
    "    display(vocabulary, tfidfs)\n",
    "\n",
    "    weights = []\n",
    "    for tfidf in tfidfs:\n",
    "        weights.append(round(sum(tfidf.values()), 2))\n",
    "\n",
    "    for doc, weight in zip(docs, weights):\n",
    "        print(f\"{doc}: {weight}\")\n",
    "\n",
    "if __name__ == \"__main__\":\n",
    "    main()\n"
   ]
  },
  {
   "cell_type": "code",
   "execution_count": null,
   "metadata": {},
   "outputs": [],
   "source": []
  }
 ],
 "metadata": {
  "kernelspec": {
   "display_name": "Python 3",
   "language": "python",
   "name": "python3"
  },
  "language_info": {
   "codemirror_mode": {
    "name": "ipython",
    "version": 3
   },
   "file_extension": ".py",
   "mimetype": "text/x-python",
   "name": "python",
   "nbconvert_exporter": "python",
   "pygments_lexer": "ipython3",
   "version": "3.13.2"
  }
 },
 "nbformat": 4,
 "nbformat_minor": 2
}
