{
 "cells": [
  {
   "cell_type": "code",
   "execution_count": 1,
   "metadata": {},
   "outputs": [],
   "source": [
    "import numpy as np\n",
    "import pandas as pd\n",
    "from sklearn.metrics.pairwise import cosine_similarity"
   ]
  },
  {
   "cell_type": "code",
   "execution_count": 2,
   "metadata": {},
   "outputs": [],
   "source": [
    "# Create a DataFrame representing the rating matrix\n",
    "data = {\n",
    "    \"Northanger Abby\": [5, 1, 1, np.nan],\n",
    "    \"Wuthering Heights\": [4, 2, 2, 4],\n",
    "    \"Oroonoko\": [3, 4, 3, 3],\n",
    "    \"Bondswoman’s Narrative\": [4, 5, np.nan, 1]\n",
    "}\n",
    "index = [\"Alex\", \"Loren\", \"Taylor\", \"Ainsley\"]\n",
    "df = pd.DataFrame(data, index=index)"
   ]
  },
  {
   "cell_type": "code",
   "execution_count": 3,
   "metadata": {},
   "outputs": [],
   "source": [
    "# Compute item-item similarity using cosine similarity\n",
    "item_similarity = cosine_similarity(df.fillna(0).T)\n",
    "item_similarity_df = pd.DataFrame(item_similarity, index=df.columns, columns=df.columns)"
   ]
  },
  {
   "cell_type": "code",
   "execution_count": 4,
   "metadata": {},
   "outputs": [],
   "source": [
    "# Function to predict missing ratings\n",
    "def predict_rating(df, item_similarity_df):\n",
    "    df_filled = df.copy()\n",
    "    \n",
    "    for book in df.columns:\n",
    "        for user in df.index:\n",
    "            if pd.isna(df.at[user, book]):  # If rating is missing\n",
    "                \n",
    "                # Find similar books and corresponding user's ratings\n",
    "                sim_books = item_similarity_df[book].drop(book)\n",
    "                rated_books = df.loc[user].dropna()\n",
    "                \n",
    "                # Compute weighted rating\n",
    "                numerator = sum(sim_books[rated_books.index] * rated_books)\n",
    "                denominator = sum(abs(sim_books[rated_books.index]))\n",
    "                \n",
    "                # Predict rating if denominator is not zero\n",
    "                if denominator > 0:\n",
    "                    df_filled.at[user, book] = numerator / denominator\n",
    "                else:\n",
    "                    df_filled.at[user, book] = df.mean().mean()  # Default to global mean\n",
    "    \n",
    "    return df_filled"
   ]
  },
  {
   "cell_type": "code",
   "execution_count": 5,
   "metadata": {},
   "outputs": [
    {
     "name": "stdout",
     "output_type": "stream",
     "text": [
      "\n",
      "Filled Rating Table:\n",
      "          Northanger Abby  Wuthering Heights  Oroonoko  Bondswoman’s Narrative\n",
      "Alex            5.000000                  4         3                4.000000\n",
      "Loren           1.000000                  2         4                5.000000\n",
      "Taylor          1.000000                  2         3                2.035334\n",
      "Ainsley         2.643833                  4         3                1.000000\n"
     ]
    }
   ],
   "source": [
    "# Fill missing ratings\n",
    "filled_df = predict_rating(df, item_similarity_df)\n",
    "print(\"\\nFilled Rating Table:\\n\", filled_df)"
   ]
  }
 ],
 "metadata": {
  "kernelspec": {
   "display_name": "Python 3",
   "language": "python",
   "name": "python3"
  },
  "language_info": {
   "codemirror_mode": {
    "name": "ipython",
    "version": 3
   },
   "file_extension": ".py",
   "mimetype": "text/x-python",
   "name": "python",
   "nbconvert_exporter": "python",
   "pygments_lexer": "ipython3",
   "version": "3.13.2"
  }
 },
 "nbformat": 4,
 "nbformat_minor": 2
}
